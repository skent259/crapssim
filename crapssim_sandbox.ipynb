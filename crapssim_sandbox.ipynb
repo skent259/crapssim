{
  "nbformat": 4,
  "nbformat_minor": 0,
  "metadata": {
    "colab": {
      "name": "crapssim-sandbox.ipynb",
      "provenance": [],
      "authorship_tag": "ABX9TyMAWZguxUtqSeMc7E6tkK69",
      "include_colab_link": true
    },
    "kernelspec": {
      "name": "python3",
      "display_name": "Python 3"
    },
    "language_info": {
      "name": "python"
    }
  },
  "cells": [
    {
      "cell_type": "markdown",
      "metadata": {
        "id": "view-in-github",
        "colab_type": "text"
      },
      "source": [
        "<a href=\"https://colab.research.google.com/github/skent259/crapssim/blob/master/crapssim_sandbox.ipynb\" target=\"_parent\"><img src=\"https://colab.research.google.com/assets/colab-badge.svg\" alt=\"Open In Colab\"/></a>"
      ]
    },
    {
      "cell_type": "markdown",
      "metadata": {
        "id": "krW51upPVrGn"
      },
      "source": [
        "# Welcome to the crapssim sandbox!\n",
        "\n",
        "This is a quick attempt to allow people to run the crapssim Python package without requiring a detailed python installation.  Some sample code is set up to get you started on running craps simulations quickly. "
      ]
    },
    {
      "cell_type": "markdown",
      "metadata": {
        "id": "BRQrYS6VWhfO"
      },
      "source": [
        "## Setup "
      ]
    },
    {
      "cell_type": "code",
      "metadata": {
        "colab": {
          "base_uri": "https://localhost:8080/"
        },
        "id": "qj3OVDyDWAyQ",
        "outputId": "f58cc69b-b163-43f5-a2d8-3e55dc69043f"
      },
      "source": [
        "!pip install crapssim \n",
        "import crapssim as craps \n",
        "from crapssim.strategy import * \n",
        "\n",
        "import numpy as np  \n",
        "import pandas as pd\n",
        "from plotnine import *"
      ],
      "execution_count": 59,
      "outputs": [
        {
          "output_type": "stream",
          "name": "stdout",
          "text": [
            "Requirement already satisfied: crapssim in /usr/local/lib/python3.7/dist-packages (0.2.0)\n"
          ]
        }
      ]
    },
    {
      "cell_type": "markdown",
      "metadata": {
        "id": "obkiYXTRX8RG"
      },
      "source": [
        "## Pick your favorite strategy \n",
        "\n",
        "Either select from the list of available strategies, or write your own.  The file [strategy.py](https://github.com/skent259/crapssim/blob/master/crapssim/strategy.py) has examples of defining strategies from scratch, and utilizing other functions to make complex strategies quickly.  "
      ]
    },
    {
      "cell_type": "code",
      "metadata": {
        "colab": {
          "base_uri": "https://localhost:8080/"
        },
        "id": "0YJhhi-MY2VR",
        "outputId": "ef3e9c79-d786-4dd6-df6b-bbaf5421e4ae"
      },
      "source": [
        "#@title  { run: \"auto\", display-mode: \"form\" }\n",
        "mode = \"pick strategy\" #@param [\"pick strategy\", \"write strategy\"]\n",
        "\n",
        "if mode == 'pick strategy':\n",
        "\n",
        "  from inspect import getmembers, isfunction\n",
        "  strat_options = [f[0] for f in getmembers(craps.strategy) if isfunction(f[1])]\n",
        "\n",
        "  print(\"Strategy options:\")\n",
        "  for strat in strat_options:\n",
        "    print(f\"- {strat}\")\n",
        "\n",
        "  strategy = passline #@param [\"passline\", \"dontpass\", \"place68\", \"ironcross\", \"risk12\", \"hammerlock\", \"dicedoctor\", \"risk12\", \"passline_odds345\"] {type:\"raw\", allow-input: true}\n",
        "elif mode == 'write strategy':\n",
        "  \n",
        "  print(\"Write your strategy in code above (click 'show code'):\")\n",
        "  ##-----------------------------------------------------------------#\n",
        "  # WRITE YOUR STRATEGY HERE\n",
        "  # The iron cross is shown below, replace with your own logic\n",
        "  #\n",
        "  def custom_strategy(player, table, unit=5, strat_info=None): \n",
        "    passline(player, table, unit)\n",
        "    passline_odds(player, table, unit, strat_info=None, mult=2)\n",
        "    place(player, table, 2 * unit, strat_info={\"numbers\": {5, 6, 8}})\n",
        "\n",
        "    if table.point == \"On\":\n",
        "        if not player.has_bet(\"Field\"):\n",
        "            player.bet(\n",
        "                Field(\n",
        "                    unit,\n",
        "                    double=table.payouts[\"fielddouble\"],\n",
        "                    triple=table.payouts[\"fieldtriple\"],\n",
        "                )\n",
        "            )\n",
        "  #\n",
        "  ##-----------------------------------------------------------------#\n",
        "\n",
        "  strategy = custom_strategy\n",
        "\n"
      ],
      "execution_count": 30,
      "outputs": [
        {
          "output_type": "stream",
          "name": "stdout",
          "text": [
            "Strategy options:\n",
            "- dicedoctor\n",
            "- dontpass\n",
            "- hammerlock\n",
            "- ironcross\n",
            "- knockout\n",
            "- layodds\n",
            "- pass2come\n",
            "- passline\n",
            "- passline_odds\n",
            "- passline_odds2\n",
            "- passline_odds345\n",
            "- place\n",
            "- place68\n",
            "- place68_2come\n",
            "- place68_cpr\n",
            "- risk12\n"
          ]
        }
      ]
    },
    {
      "cell_type": "markdown",
      "metadata": {
        "id": "V6jFCkFClb_9"
      },
      "source": [
        "## Test your strategy\n",
        "\n",
        "Make sure everything is working right, especially if you write a custom strategy. (This is usually the time consuming process for me.)  You can adjust the number of rolls and bankroll accordingly.  "
      ]
    },
    {
      "cell_type": "code",
      "metadata": {
        "colab": {
          "base_uri": "https://localhost:8080/"
        },
        "id": "ORylNr_gWQuc",
        "outputId": "6342261a-8481-4ff9-f8f2-f02beddc6ddd"
      },
      "source": [
        "# Adjust bankroll or rolls here\n",
        "bankroll = 200\n",
        "max_rolls = 20 \n",
        "\n",
        "table = craps.Table()\n",
        "you = craps.Player(bankroll=bankroll, bet_strategy=strategy)\n",
        "table.add_player(you)\n",
        "table.run(max_rolls=max_rolls)"
      ],
      "execution_count": 31,
      "outputs": [
        {
          "output_type": "stream",
          "name": "stdout",
          "text": [
            "Welcome to the Craps Table!\n",
            "Initial players: ['Player']\n",
            "Player's current bets: ['PassLine, $5.0']\n",
            "\n",
            "Dice out!\n",
            "Shooter rolled 6 [2 4]\n",
            "Point is On (6)\n",
            "Total Player Cash is $200.0\n",
            "Player's current bets: ['PassLine, $5.0']\n",
            "\n",
            "Dice out!\n",
            "Shooter rolled 5 [1 4]\n",
            "Point is On (6)\n",
            "Total Player Cash is $200.0\n",
            "Player's current bets: ['PassLine, $5.0']\n",
            "\n",
            "Dice out!\n",
            "Shooter rolled 10 [6 4]\n",
            "Point is On (6)\n",
            "Total Player Cash is $200.0\n",
            "Player's current bets: ['PassLine, $5.0']\n",
            "\n",
            "Dice out!\n",
            "Shooter rolled 11 [5 6]\n",
            "Point is On (6)\n",
            "Total Player Cash is $200.0\n",
            "Player's current bets: ['PassLine, $5.0']\n",
            "Player lost $5.0 on PassLine bet.\n",
            "\n",
            "Dice out!\n",
            "Shooter rolled 7 [6 1]\n",
            "Point is Off (None)\n",
            "Total Player Cash is $195.0\n",
            "Player's current bets: ['PassLine, $5.0']\n",
            "\n",
            "Dice out!\n",
            "Shooter rolled 6 [1 5]\n",
            "Point is On (6)\n",
            "Total Player Cash is $195.0\n",
            "Player's current bets: ['PassLine, $5.0']\n",
            "Player won $5.0 on PassLine bet!\n",
            "\n",
            "Dice out!\n",
            "Shooter rolled 6 [2 4]\n",
            "Point is Off (None)\n",
            "Total Player Cash is $200.0\n",
            "Player's current bets: ['PassLine, $5.0']\n",
            "\n",
            "Dice out!\n",
            "Shooter rolled 6 [1 5]\n",
            "Point is On (6)\n",
            "Total Player Cash is $200.0\n",
            "Player's current bets: ['PassLine, $5.0']\n",
            "Player won $5.0 on PassLine bet!\n",
            "\n",
            "Dice out!\n",
            "Shooter rolled 6 [4 2]\n",
            "Point is Off (None)\n",
            "Total Player Cash is $205.0\n",
            "Player's current bets: ['PassLine, $5.0']\n",
            "\n",
            "Dice out!\n",
            "Shooter rolled 4 [1 3]\n",
            "Point is On (4)\n",
            "Total Player Cash is $205.0\n",
            "Player's current bets: ['PassLine, $5.0']\n",
            "Player lost $5.0 on PassLine bet.\n",
            "\n",
            "Dice out!\n",
            "Shooter rolled 7 [6 1]\n",
            "Point is Off (None)\n",
            "Total Player Cash is $200.0\n",
            "Player's current bets: ['PassLine, $5.0']\n",
            "\n",
            "Dice out!\n",
            "Shooter rolled 6 [4 2]\n",
            "Point is On (6)\n",
            "Total Player Cash is $200.0\n",
            "Player's current bets: ['PassLine, $5.0']\n",
            "Player lost $5.0 on PassLine bet.\n",
            "\n",
            "Dice out!\n",
            "Shooter rolled 7 [5 2]\n",
            "Point is Off (None)\n",
            "Total Player Cash is $195.0\n",
            "Player's current bets: ['PassLine, $5.0']\n",
            "\n",
            "Dice out!\n",
            "Shooter rolled 9 [3 6]\n",
            "Point is On (9)\n",
            "Total Player Cash is $195.0\n",
            "Player's current bets: ['PassLine, $5.0']\n",
            "\n",
            "Dice out!\n",
            "Shooter rolled 3 [1 2]\n",
            "Point is On (9)\n",
            "Total Player Cash is $195.0\n",
            "Player's current bets: ['PassLine, $5.0']\n",
            "Player lost $5.0 on PassLine bet.\n",
            "\n",
            "Dice out!\n",
            "Shooter rolled 7 [6 1]\n",
            "Point is Off (None)\n",
            "Total Player Cash is $190.0\n",
            "Player's current bets: ['PassLine, $5.0']\n",
            "\n",
            "Dice out!\n",
            "Shooter rolled 6 [1 5]\n",
            "Point is On (6)\n",
            "Total Player Cash is $190.0\n",
            "Player's current bets: ['PassLine, $5.0']\n",
            "\n",
            "Dice out!\n",
            "Shooter rolled 5 [2 3]\n",
            "Point is On (6)\n",
            "Total Player Cash is $190.0\n",
            "Player's current bets: ['PassLine, $5.0']\n",
            "\n",
            "Dice out!\n",
            "Shooter rolled 5 [3 2]\n",
            "Point is On (6)\n",
            "Total Player Cash is $190.0\n",
            "Player's current bets: ['PassLine, $5.0']\n",
            "\n",
            "Dice out!\n",
            "Shooter rolled 8 [3 5]\n",
            "Point is On (6)\n",
            "Total Player Cash is $190.0\n"
          ]
        }
      ]
    },
    {
      "cell_type": "markdown",
      "metadata": {
        "id": "whqk27ezm0d-"
      },
      "source": [
        "## Simulate many sessions\n",
        "\n",
        "Use this code to simulate your chosen strategy many times and get a sense for what you might expect at the craps table.  For a reliable outcome, I recommend at least 100,000 simulations (which will take a few minutes)"
      ]
    },
    {
      "cell_type": "code",
      "metadata": {
        "cellView": "form",
        "id": "48HnX1Ad02ml"
      },
      "source": [
        "#@title Simulation parameters\n",
        "n_sim = 10000 #@param {type:\"integer\"}\n",
        "bankroll = 1000 #@param {type:\"number\"}\n",
        "max_rolls =  144#@param {type:\"raw\"}\n",
        "max_shooter =  float(\"inf\")#@param {type:\"raw\"}\n",
        "\n",
        "print_every = 1000 #@param {type:\"integer\"}\n"
      ],
      "execution_count": 122,
      "outputs": []
    },
    {
      "cell_type": "code",
      "metadata": {
        "colab": {
          "base_uri": "https://localhost:8080/"
        },
        "id": "E9DRH6mhnVt9",
        "outputId": "b7ba3b8a-387c-4fbc-a48a-b150bc9c2f80"
      },
      "source": [
        "results = []\n",
        "\n",
        "print(\"[sim, final, initial, n_rolls]\")\n",
        "for i in range(n_sim):\n",
        "  table = craps.Table() \n",
        "  table.add_player(craps.Player(bankroll, strategy, 1))\n",
        "  table.run(max_rolls, max_shooter, verbose=False)\n",
        "\n",
        "  row = [i, table._get_player(1).bankroll, bankroll, table.dice.n_rolls]\n",
        "  if (i % print_every == 0):\n",
        "    print(row)\n",
        "  results.append(row)\n",
        "\n",
        "# Create dataframe of results\n",
        "results = pd.DataFrame(results, columns = ['sim', 'final', 'initial', 'n_rolls'])\n",
        "results['winnings'] = results['final'] - results['initial']"
      ],
      "execution_count": 123,
      "outputs": [
        {
          "output_type": "stream",
          "name": "stdout",
          "text": [
            "[sim, final, initial, n_rolls]\n",
            "[0, 1040.0, 1000, 144]\n",
            "[1000, 1000.0, 1000, 144]\n",
            "[2000, 1055.0, 1000, 144]\n",
            "[3000, 1015.0, 1000, 144]\n",
            "[4000, 980.0, 1000, 144]\n",
            "[5000, 965.0, 1000, 144]\n",
            "[6000, 945.0, 1000, 144]\n",
            "[7000, 1010.0, 1000, 144]\n",
            "[8000, 975.0, 1000, 144]\n",
            "[9000, 985.0, 1000, 144]\n"
          ]
        }
      ]
    },
    {
      "cell_type": "markdown",
      "metadata": {
        "id": "ONHiknYV1qv6"
      },
      "source": [
        "### Visualize results"
      ]
    },
    {
      "cell_type": "code",
      "metadata": {
        "colab": {
          "base_uri": "https://localhost:8080/",
          "height": 477
        },
        "id": "Pewwnx4SrmWk",
        "outputId": "cb3e39a1-52c0-4854-cb17-e4a601eb24d3"
      },
      "source": [
        "# Density plot\n",
        "(ggplot(results, aes(x='winnings')) + \n",
        " geom_vline(xintercept = 0, color = 'grey') + \n",
        " geom_density() +\n",
        " theme_minimal() + \n",
        " labs(x = \"Winnings\", y = \"Relative chance of outcome\")\n",
        ")"
      ],
      "execution_count": 124,
      "outputs": [
        {
          "output_type": "display_data",
          "data": {
            "image/png": "[encoded data removed]",
            "text/plain": [
              "<Figure size 640x480 with 1 Axes>"
            ]
          },
          "metadata": {
            "needs_background": "light"
          }
        },
        {
          "output_type": "execute_result",
          "data": {
            "text/plain": [
              "<ggplot: (8778397142509)>"
            ]
          },
          "metadata": {},
          "execution_count": 124
        }
      ]
    },
    {
      "cell_type": "code",
      "metadata": {
        "colab": {
          "base_uri": "https://localhost:8080/",
          "height": 531
        },
        "id": "WoWDmNrnwHcA",
        "outputId": "106237a4-dbb1-4f02-8576-6f33a2ab2fe9"
      },
      "source": [
        "# Boxplot\n",
        "(ggplot(results,aes(y='winnings',x=0)) + \n",
        " geom_hline(yintercept = 0, color = 'grey') + \n",
        " geom_boxplot(width = 0.4) +\n",
        " xlim(-1, 1) + \n",
        " coord_flip() +\n",
        " theme_minimal()\n",
        ")"
      ],
      "execution_count": 125,
      "outputs": [
        {
          "output_type": "stream",
          "name": "stderr",
          "text": [
            "/usr/local/lib/python3.7/dist-packages/plotnine/stats/stat_boxplot.py:86: FutureWarning: is_categorical is deprecated and will be removed in a future version.  Use is_categorical_dtype instead\n",
            "  if pdtypes.is_categorical(data['x']):\n"
          ]
        },
        {
          "output_type": "display_data",
          "data": {
            "image/png": "[encoded data removed]",
            "text/plain": [
              "<Figure size 640x480 with 1 Axes>"
            ]
          },
          "metadata": {
            "needs_background": "light"
          }
        },
        {
          "output_type": "execute_result",
          "data": {
            "text/plain": [
              "<ggplot: (8778397004857)>"
            ]
          },
          "metadata": {},
          "execution_count": 125
        }
      ]
    },
    {
      "cell_type": "markdown",
      "metadata": {
        "id": "9asZI6qyWv-d"
      },
      "source": [
        "Outline for my sanity\n",
        "\n",
        "- ~~Setup~~ \n",
        "- Pick a strategy\n",
        "  - ~~List of supported strats~~\n",
        "  - ~~Link to code where you can see examples~~\n",
        "  - ~~Option to select the strategy or write your own~~\n",
        "  - ?Multiple strategies?\n",
        "- Strategy test run\n",
        "  - ~~Random rolls~~ \n",
        "  - Option of the fixed rolls, does a regular printout to check\n",
        "- Simulation that will finish in a reasonable amount of time \n",
        "  - ~~Option of the number of sims~~\n",
        "  - Output: table, graph?\n",
        "\n",
        "- Advanced tips and tricks?\n",
        "- Option for them to sent the strategy to me for inclusion\n",
        "  - Email? \n",
        "  - Github issue?"
      ]
    }
  ]
}
